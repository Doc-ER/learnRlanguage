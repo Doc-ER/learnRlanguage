{
 "cells": [
  {
   "cell_type": "markdown",
   "metadata": {},
   "source": [
    "1. Description:\n",
    "funs() provides a flexible way to generate a named list of functions for input to other functions like summarize_at()\n",
    "\n",
    "2. Usage:\n",
    "funs( . . . ,   .args = list())\n",
    "\n",
    "3. Arguments:\n",
    ". . .    \n",
    "\n",
    "A list of functions specified by:\n",
    " (1) Their name,  \"mean\"\n",
    " (2) The function itself,  mean\n",
    " (3) A call to the function with . as a dummy argument,  mean( . , na.rm = TRUE)\n",
    " \n",
    " These following notations are not supported, see examples:\n",
    " \n",
    " (1) An anonymous function,  function(x) mean(x,  na.rm = TRUE)\n",
    " (2) An anonymous function in purrr notation,  ~mean( .  ,  na.rm = TRUE)\n",
    " \n",
    " .args, args\n",
    " \n",
    " A named list of a additional arguments to be added to all function calls. \n",
    " As funs() is being deprecated, use other methods to supply arguments:  . . . argument in scoped verbs or make own functions with purrr::partial()\n",
    " \n",
    " "
   ]
  }
 ],
 "metadata": {
  "kernelspec": {
   "display_name": "R",
   "language": "R",
   "name": "ir"
  },
  "language_info": {
   "codemirror_mode": "r",
   "file_extension": ".r",
   "mimetype": "text/x-r-source",
   "name": "R",
   "pygments_lexer": "r",
   "version": "3.6.0"
  }
 },
 "nbformat": 4,
 "nbformat_minor": 2
}
